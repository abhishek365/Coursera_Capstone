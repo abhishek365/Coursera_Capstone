{
    "cells": [
        {
            "cell_type": "code",
            "execution_count": 3,
            "metadata": {},
            "outputs": [],
            "source": "import pandas as pd\nimport numpy as np\nimport requests\nfrom bs4 import BeautifulSoup"
        },
        {
            "cell_type": "code",
            "execution_count": 4,
            "metadata": {},
            "outputs": [],
            "source": "source = requests.get('https://en.wikipedia.org/wiki/List_of_postal_codes_of_Canada:_M').text\nsoup = BeautifulSoup(source, 'html5lib')"
        },
        {
            "cell_type": "code",
            "execution_count": 8,
            "metadata": {},
            "outputs": [
                {
                    "ename": "SyntaxError",
                    "evalue": "invalid character in identifier (<ipython-input-8-e081e6452eb6>, line 1)",
                    "output_type": "error",
                    "traceback": [
                        "\u001b[0;36m  File \u001b[0;32m\"<ipython-input-8-e081e6452eb6>\"\u001b[0;36m, line \u001b[0;32m1\u001b[0m\n\u001b[0;31m    postal_codes_dict\u00a0=\u00a0{}\u00a0#\u00a0initialize\u00a0an\u00a0empty\u00a0dictionary\u00a0to\u00a0save\u00a0the\u00a0data\u00a0infor\u00a0table_cell\u00a0in\u00a0soup.find_all('td'):\u00a0\u00a0\u00a0\u00a0try:\u00a0\u00a0\u00a0\u00a0\u00a0\u00a0\u00a0\u00a0postal_code\u00a0=\u00a0table_cell.p.b.text\u00a0#\u00a0get\u00a0the\u00a0postal\u00a0code\u00a0\u00a0\u00a0\u00a0\u00a0\u00a0\u00a0\u00a0postal_code_investigate\u00a0=\u00a0table_cell.span.text\u00a0\u00a0\u00a0\u00a0\u00a0\u00a0\u00a0\u00a0neighborhoods_data\u00a0=\u00a0table_cell.span.text\u00a0#\u00a0get\u00a0the\u00a0rest\u00a0of\u00a0the\u00a0data\u00a0in\u00a0the\u00a0cell\u00a0\u00a0\u00a0\u00a0\u00a0\u00a0\u00a0\u00a0borough\u00a0=\u00a0neighborhoods_data.split('(')[0]\u00a0#\u00a0get\u00a0the\u00a0borough\u00a0in\u00a0the\u00a0cell\u001b[0m\n\u001b[0m                     ^\u001b[0m\n\u001b[0;31mSyntaxError\u001b[0m\u001b[0;31m:\u001b[0m invalid character in identifier\n"
                    ]
                }
            ],
            "source": "postal_codes_dict\u00a0=\u00a0{}\u00a0#\u00a0initialize\u00a0an\u00a0empty\u00a0dictionary\u00a0to\u00a0save\u00a0the\u00a0data\u00a0infor\u00a0table_cell\u00a0in\u00a0soup.find_all('td'):\u00a0\u00a0\u00a0\u00a0try:\u00a0\u00a0\u00a0\u00a0\u00a0\u00a0\u00a0\u00a0postal_code\u00a0=\u00a0table_cell.p.b.text\u00a0#\u00a0get\u00a0the\u00a0postal\u00a0code\u00a0\u00a0\u00a0\u00a0\u00a0\u00a0\u00a0\u00a0postal_code_investigate\u00a0=\u00a0table_cell.span.text\u00a0\u00a0\u00a0\u00a0\u00a0\u00a0\u00a0\u00a0neighborhoods_data\u00a0=\u00a0table_cell.span.text\u00a0#\u00a0get\u00a0the\u00a0rest\u00a0of\u00a0the\u00a0data\u00a0in\u00a0the\u00a0cell\u00a0\u00a0\u00a0\u00a0\u00a0\u00a0\u00a0\u00a0borough\u00a0=\u00a0neighborhoods_data.split('(')[0]\u00a0#\u00a0get\u00a0the\u00a0borough\u00a0in\u00a0the\u00a0cell\u00a0\u00a0\u00a0\u00a0\u00a0\u00a0\u00a0\u00a0\u00a0\u00a0\u00a0\u00a0\u00a0\u00a0\u00a0\u00a0"
        },
        {
            "cell_type": "code",
            "execution_count": 7,
            "metadata": {},
            "outputs": [
                {
                    "ename": "SyntaxError",
                    "evalue": "invalid character in identifier (<ipython-input-7-fbc24e3502e8>, line 2)",
                    "output_type": "error",
                    "traceback": [
                        "\u001b[0;36m  File \u001b[0;32m\"<ipython-input-7-fbc24e3502e8>\"\u001b[0;36m, line \u001b[0;32m2\u001b[0m\n\u001b[0;31m    neighborhoods_names\u00a0=\u00a0neighborhoods.split('/')\u00a0\u00a0\u00a0\u00a0\u00a0\u00a0\u00a0\u00a0\u00a0\u00a0\u00a0\u00a0\u00a0\u00a0\u00a0\u00a0neighborhoods_clean\u00a0=\u00a0',\u00a0'.join([name.strip()\u00a0for\u00a0name\u00a0in\u00a0neighborhoods_names])\u00a0\u00a0\u00a0\u00a0\u00a0\u00a0\u00a0\u00a0\u00a0\u00a0\u00a0\u00a0except:\u00a0\u00a0\u00a0\u00a0\u00a0\u00a0\u00a0\u00a0\u00a0\u00a0\u00a0\u00a0\u00a0\u00a0\u00a0\u00a0borough\u00a0=\u00a0borough.strip('\\n')\u00a0\u00a0\u00a0\u00a0\u00a0\u00a0\u00a0\u00a0\u00a0\u00a0\u00a0\u00a0\u00a0\u00a0\u00a0\u00a0neighborhoods_clean\u00a0=\u00a0borough\u00a0\u00a0\u00a0\u00a0\u00a0\u00a0\u00a0\u00a0\u00a0\u00a0\u00a0\u00a0\u00a0#\u00a0add\u00a0borough\u00a0and\u00a0neighborhood\u00a0to\u00a0dictionary\u00a0\u00a0\u00a0\u00a0\u00a0\u00a0\u00a0\u00a0\u00a0\u00a0\u00a0\u00a0postal_codes_dict[postal_code]['borough']\u00a0=\u00a0borough\u00a0\u00a0\u00a0\u00a0\u00a0\u00a0\u00a0\u00a0\u00a0\u00a0\u00a0\u00a0postal_codes_dict[postal_code]['neighborhoods']\u00a0=\u00a0neighborhoods_clean\u00a0\u00a0\u00a0\u00a0except:\u00a0\u00a0\u00a0\u00a0\u00a0\u00a0\u00a0\u00a0pass\u00a0\u00a0\u00a0\u00a0#\u00a0create\u00a0an\u00a0empty\u00a0dataframecolumns\u00a0=\u00a0['PostalCode',\u00a0'Borough',\u00a0'Neighborhood']toronto_data\u00a0=\u00a0pd.DataFrame(columns=columns)toronto_data\u001b[0m\n\u001b[0m                       ^\u001b[0m\n\u001b[0;31mSyntaxError\u001b[0m\u001b[0;31m:\u001b[0m invalid character in identifier\n"
                    ]
                }
            ],
            "source": "#if the cell\u00a0is\u00a0not\u00a0assigned\u00a0then\u00a0ignore\u00a0it\u00a0\u00a0\u00a0\u00a0\u00a0\u00a0\u00a0\u00a0if\u00a0neighborhoods_data\u00a0==\u00a0'Not\u00a0assigned':\u00a0\u00a0\u00a0\u00a0\u00a0\u00a0\u00a0\u00a0\u00a0\u00a0\u00a0\u00a0neighborhoods\u00a0=\u00a0[]\u00a0\u00a0\u00a0\u00a0\u00a0\u00a0\u00a0\u00a0#\u00a0else\u00a0process\u00a0the\u00a0data\u00a0and\u00a0add\u00a0it\u00a0to\u00a0the\u00a0dictionary\u00a0\u00a0\u00a0\u00a0\u00a0\u00a0\u00a0\u00a0else:\u00a0\u00a0\u00a0\u00a0\u00a0\u00a0\u00a0\u00a0\u00a0\u00a0\u00a0\u00a0postal_codes_dict[postal_code]\u00a0=\u00a0{}\u00a0\u00a0\u00a0\u00a0\u00a0\u00a0\u00a0\u00a0\u00a0\u00a0\u00a0\u00a0\u00a0\u00a0\u00a0\u00a0\u00a0\u00a0\u00a0\u00a0\u00a0\u00a0\u00a0\u00a0try:\u00a0\u00a0\u00a0\u00a0\u00a0\u00a0\u00a0\u00a0\u00a0\u00a0\u00a0\u00a0\u00a0\u00a0\u00a0\u00a0neighborhoods\u00a0=\u00a0neighborhoods_data.split('(')[1]\u00a0\u00a0\u00a0\u00a0\u00a0\u00a0\u00a0\u00a0\u00a0\u00a0\u00a0\u00a0\u00a0\u00a0\u00a0\u00a0\u00a0\u00a0\u00a0\u00a0\u00a0\u00a0\u00a0\u00a0\u00a0\u00a0\u00a0\u00a0#\u00a0remove\u00a0parantheses\u00a0from\u00a0neighborhoods\u00a0string\u00a0\u00a0\u00a0\u00a0\u00a0\u00a0\u00a0\u00a0\u00a0\u00a0\u00a0\u00a0\u00a0\u00a0\u00a0\u00a0neighborhoods\u00a0=\u00a0neighborhoods.replace('(',\u00a0'\u00a0')\u00a0\u00a0\u00a0\u00a0\u00a0\u00a0\u00a0\u00a0\u00a0\u00a0\u00a0\u00a0\u00a0\u00a0\u00a0\u00a0neighborhoods\u00a0=\u00a0neighborhoods.replace(')',\u00a0'\u00a0')\n\u00a0\u00a0\u00a0\u00a0\u00a0\u00a0\u00a0\u00a0\u00a0\u00a0\u00a0\u00a0\u00a0\u00a0\u00a0\u00a0neighborhoods_names\u00a0=\u00a0neighborhoods.split('/')\u00a0\u00a0\u00a0\u00a0\u00a0\u00a0\u00a0\u00a0\u00a0\u00a0\u00a0\u00a0\u00a0\u00a0\u00a0\u00a0neighborhoods_clean\u00a0=\u00a0',\u00a0'.join([name.strip()\u00a0for\u00a0name\u00a0in\u00a0neighborhoods_names])\u00a0\u00a0\u00a0\u00a0\u00a0\u00a0\u00a0\u00a0\u00a0\u00a0\u00a0\u00a0except:\u00a0\u00a0\u00a0\u00a0\u00a0\u00a0\u00a0\u00a0\u00a0\u00a0\u00a0\u00a0\u00a0\u00a0\u00a0\u00a0borough\u00a0=\u00a0borough.strip('\\n')\u00a0\u00a0\u00a0\u00a0\u00a0\u00a0\u00a0\u00a0\u00a0\u00a0\u00a0\u00a0\u00a0\u00a0\u00a0\u00a0neighborhoods_clean\u00a0=\u00a0borough\u00a0\u00a0\u00a0\u00a0\u00a0\u00a0\u00a0\u00a0\u00a0\u00a0\u00a0\u00a0\u00a0#\u00a0add\u00a0borough\u00a0and\u00a0neighborhood\u00a0to\u00a0dictionary\u00a0\u00a0\u00a0\u00a0\u00a0\u00a0\u00a0\u00a0\u00a0\u00a0\u00a0\u00a0postal_codes_dict[postal_code]['borough']\u00a0=\u00a0borough\u00a0\u00a0\u00a0\u00a0\u00a0\u00a0\u00a0\u00a0\u00a0\u00a0\u00a0\u00a0postal_codes_dict[postal_code]['neighborhoods']\u00a0=\u00a0neighborhoods_clean\u00a0\u00a0\u00a0\u00a0except:\u00a0\u00a0\u00a0\u00a0\u00a0\u00a0\u00a0\u00a0pass\u00a0\u00a0\u00a0\u00a0#\u00a0create\u00a0an\u00a0empty\u00a0dataframecolumns\u00a0=\u00a0['PostalCode',\u00a0'Borough',\u00a0'Neighborhood']toronto_data\u00a0=\u00a0pd.DataFrame(columns=columns)toronto_data\n#\u00a0populate\u00a0dataframe\u00a0with\u00a0data\u00a0from\u00a0dictionaryfor\u00a0ind,\u00a0postal_code\u00a0in\u00a0enumerate(postal_codes_dict):\u00a0\u00a0\u00a0\u00a0borough\u00a0=\u00a0postal_codes_dict[postal_code]['borough']\u00a0\u00a0\u00a0\u00a0neighborhood\u00a0=\u00a0postal_codes_dict[postal_code]['neighborhoods']\u00a0\u00a0\u00a0\u00a0toronto_data\u00a0=\u00a0toronto_data.append({\"PostalCode\":\u00a0postal_code,\u00a0\u00a0\u00a0\u00a0\u00a0\u00a0\u00a0\u00a0\u00a0\u00a0\u00a0\u00a0\u00a0\u00a0\u00a0\u00a0\u00a0\u00a0\u00a0\u00a0\u00a0\u00a0\u00a0\u00a0\u00a0\u00a0\u00a0\u00a0\u00a0\u00a0\u00a0\u00a0\u00a0\u00a0\u00a0\u00a0\u00a0\u00a0\u00a0\u00a0\u00a0\"Borough\":\u00a0borough,\u00a0\u00a0\u00a0\u00a0\u00a0\u00a0\u00a0\u00a0\u00a0\u00a0\u00a0\u00a0\u00a0\u00a0\u00a0\u00a0\u00a0\u00a0\u00a0\u00a0\u00a0\u00a0\u00a0\u00a0\u00a0\u00a0\u00a0\u00a0\u00a0\u00a0\u00a0\u00a0\u00a0\u00a0\u00a0\u00a0\u00a0\u00a0\u00a0\u00a0\u00a0\"Neighborhood\":\u00a0neighborhood},\u00a0\u00a0\u00a0\u00a0\u00a0\u00a0\u00a0\u00a0\u00a0\u00a0\u00a0\u00a0\u00a0\u00a0\u00a0\u00a0\u00a0\u00a0\u00a0\u00a0\u00a0\u00a0\u00a0\u00a0\u00a0\u00a0\u00a0\u00a0\u00a0\u00a0\u00a0\u00a0\u00a0\u00a0\u00a0\u00a0\u00a0\u00a0\u00a0\u00a0ignore_index=True)\n#\u00a0print\u00a0number\u00a0of\u00a0rows\u00a0of\u00a0dataframetoronto_data.shape[0]"
        },
        {
            "cell_type": "code",
            "execution_count": null,
            "metadata": {},
            "outputs": [],
            "source": ""
        }
    ],
    "metadata": {
        "kernelspec": {
            "display_name": "Python 3.7",
            "language": "python",
            "name": "python3"
        },
        "language_info": {
            "codemirror_mode": {
                "name": "ipython",
                "version": 3
            },
            "file_extension": ".py",
            "mimetype": "text/x-python",
            "name": "python",
            "nbconvert_exporter": "python",
            "pygments_lexer": "ipython3",
            "version": "3.7.9"
        }
    },
    "nbformat": 4,
    "nbformat_minor": 1
}